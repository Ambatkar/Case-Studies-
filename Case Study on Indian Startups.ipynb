{
 "cells": [
  {
   "cell_type": "markdown",
   "id": "e87c8810",
   "metadata": {},
   "source": [
    "## Question 1\n",
    "Your Friend has developed the Product and he wants to establish the product startup and he is searching for a perfect location where getting the investment has a high chance. \n",
    "\n",
    "But due to its financial restriction, he can choose only between three locations -  Bangalore, Mumbai, and NCR. As a friend, you want to help your friend deciding the location. \n",
    "NCR include Gurgaon, Noida and New Delhi. \n",
    "\n",
    "Find the location where the most number of funding is done. That means, find the location where startups has received funding maximum number of times. Plot the bar graph between location and number of funding. \n",
    "\n",
    "Take city name \"Delhi\" as \"New Delhi\". Check the case-sensitiveness of cities also. That means, at some place instead of \"Bangalore\", \"bangalore\" is given. Take city name as \"Bangalore\". For few startups multiple locations are given, one Indian and one Foreign. Consider the startup if any one of the city lies in given *locations*."
   ]
  },
  {
   "cell_type": "code",
   "execution_count": 176,
   "id": "2edc2423",
   "metadata": {},
   "outputs": [],
   "source": [
    "import matplotlib.pyplot as plt\n",
    "import pandas as pd\n",
    "import numpy as np"
   ]
  },
  {
   "cell_type": "code",
   "execution_count": 177,
   "id": "bcf322c7",
   "metadata": {},
   "outputs": [],
   "source": [
    "df = pd.read_csv('startup_funding.csv',encoding='utf-8')"
   ]
  },
  {
   "cell_type": "code",
   "execution_count": 178,
   "id": "0d1fbf0d",
   "metadata": {},
   "outputs": [],
   "source": [
    "df.CityLocation.replace('bangalore','Bangalore',inplace=True)\n",
    "df.CityLocation.replace('Delhi','New Delhi',inplace=True)"
   ]
  },
  {
   "cell_type": "code",
   "execution_count": 179,
   "id": "a2ded9da",
   "metadata": {},
   "outputs": [
    {
     "data": {
      "text/html": [
       "<div>\n",
       "<style scoped>\n",
       "    .dataframe tbody tr th:only-of-type {\n",
       "        vertical-align: middle;\n",
       "    }\n",
       "\n",
       "    .dataframe tbody tr th {\n",
       "        vertical-align: top;\n",
       "    }\n",
       "\n",
       "    .dataframe thead th {\n",
       "        text-align: right;\n",
       "    }\n",
       "</style>\n",
       "<table border=\"1\" class=\"dataframe\">\n",
       "  <thead>\n",
       "    <tr style=\"text-align: right;\">\n",
       "      <th></th>\n",
       "      <th>SNo</th>\n",
       "      <th>Date</th>\n",
       "      <th>StartupName</th>\n",
       "      <th>IndustryVertical</th>\n",
       "      <th>SubVertical</th>\n",
       "      <th>CityLocation</th>\n",
       "      <th>InvestorsName</th>\n",
       "      <th>InvestmentType</th>\n",
       "      <th>AmountInUSD</th>\n",
       "      <th>Remarks</th>\n",
       "    </tr>\n",
       "  </thead>\n",
       "  <tbody>\n",
       "    <tr>\n",
       "      <th>0</th>\n",
       "      <td>0</td>\n",
       "      <td>01/08/2017</td>\n",
       "      <td>TouchKin</td>\n",
       "      <td>Technology</td>\n",
       "      <td>Predictive Care Platform</td>\n",
       "      <td>Bangalore</td>\n",
       "      <td>Kae Capital</td>\n",
       "      <td>Private Equity</td>\n",
       "      <td>1,300,000</td>\n",
       "      <td>NaN</td>\n",
       "    </tr>\n",
       "    <tr>\n",
       "      <th>1</th>\n",
       "      <td>1</td>\n",
       "      <td>02/08/2017</td>\n",
       "      <td>Ethinos</td>\n",
       "      <td>Technology</td>\n",
       "      <td>Digital Marketing Agency</td>\n",
       "      <td>Mumbai</td>\n",
       "      <td>Triton Investment Advisors</td>\n",
       "      <td>Private Equity</td>\n",
       "      <td>NaN</td>\n",
       "      <td>NaN</td>\n",
       "    </tr>\n",
       "    <tr>\n",
       "      <th>2</th>\n",
       "      <td>2</td>\n",
       "      <td>02/08/2017</td>\n",
       "      <td>Leverage Edu</td>\n",
       "      <td>Consumer Internet</td>\n",
       "      <td>Online platform for Higher Education Services</td>\n",
       "      <td>New Delhi</td>\n",
       "      <td>Kashyap Deorah, Anand Sankeshwar, Deepak Jain,...</td>\n",
       "      <td>Seed Funding</td>\n",
       "      <td>NaN</td>\n",
       "      <td>NaN</td>\n",
       "    </tr>\n",
       "    <tr>\n",
       "      <th>3</th>\n",
       "      <td>3</td>\n",
       "      <td>02/08/2017</td>\n",
       "      <td>Zepo</td>\n",
       "      <td>Consumer Internet</td>\n",
       "      <td>DIY Ecommerce platform</td>\n",
       "      <td>Mumbai</td>\n",
       "      <td>Kunal Shah, LetsVenture, Anupam Mittal, Hetal ...</td>\n",
       "      <td>Seed Funding</td>\n",
       "      <td>500,000</td>\n",
       "      <td>NaN</td>\n",
       "    </tr>\n",
       "    <tr>\n",
       "      <th>4</th>\n",
       "      <td>4</td>\n",
       "      <td>02/08/2017</td>\n",
       "      <td>Click2Clinic</td>\n",
       "      <td>Consumer Internet</td>\n",
       "      <td>healthcare service aggregator</td>\n",
       "      <td>Hyderabad</td>\n",
       "      <td>Narottam Thudi, Shireesh Palle</td>\n",
       "      <td>Seed Funding</td>\n",
       "      <td>850,000</td>\n",
       "      <td>NaN</td>\n",
       "    </tr>\n",
       "  </tbody>\n",
       "</table>\n",
       "</div>"
      ],
      "text/plain": [
       "   SNo        Date   StartupName   IndustryVertical  \\\n",
       "0    0  01/08/2017      TouchKin         Technology   \n",
       "1    1  02/08/2017       Ethinos         Technology   \n",
       "2    2  02/08/2017  Leverage Edu  Consumer Internet   \n",
       "3    3  02/08/2017          Zepo  Consumer Internet   \n",
       "4    4  02/08/2017  Click2Clinic  Consumer Internet   \n",
       "\n",
       "                                     SubVertical CityLocation  \\\n",
       "0                       Predictive Care Platform    Bangalore   \n",
       "1                       Digital Marketing Agency       Mumbai   \n",
       "2  Online platform for Higher Education Services    New Delhi   \n",
       "3                         DIY Ecommerce platform       Mumbai   \n",
       "4                  healthcare service aggregator    Hyderabad   \n",
       "\n",
       "                                       InvestorsName  InvestmentType  \\\n",
       "0                                        Kae Capital  Private Equity   \n",
       "1                         Triton Investment Advisors  Private Equity   \n",
       "2  Kashyap Deorah, Anand Sankeshwar, Deepak Jain,...    Seed Funding   \n",
       "3  Kunal Shah, LetsVenture, Anupam Mittal, Hetal ...    Seed Funding   \n",
       "4                     Narottam Thudi, Shireesh Palle    Seed Funding   \n",
       "\n",
       "  AmountInUSD Remarks  \n",
       "0   1,300,000     NaN  \n",
       "1         NaN     NaN  \n",
       "2         NaN     NaN  \n",
       "3     500,000     NaN  \n",
       "4     850,000     NaN  "
      ]
     },
     "execution_count": 179,
     "metadata": {},
     "output_type": "execute_result"
    }
   ],
   "source": [
    "df.head()"
   ]
  },
  {
   "cell_type": "code",
   "execution_count": 180,
   "id": "ec8edde0",
   "metadata": {},
   "outputs": [],
   "source": [
    "df.dropna(subset=['CityLocation'],inplace=True)"
   ]
  },
  {
   "cell_type": "code",
   "execution_count": 181,
   "id": "9bc29a29",
   "metadata": {},
   "outputs": [],
   "source": [
    "def removeCity(s):\n",
    "    return s.split('/')[0].strip()\n",
    "df.CityLocation = df.CityLocation.apply(removeCity)"
   ]
  },
  {
   "cell_type": "code",
   "execution_count": 182,
   "id": "7598d0eb",
   "metadata": {},
   "outputs": [],
   "source": [
    "pref_loc = ['Bangalore', 'Mumbai']"
   ]
  },
  {
   "cell_type": "code",
   "execution_count": 183,
   "id": "3593eb69",
   "metadata": {},
   "outputs": [],
   "source": [
    "c_values = df.CityLocation.value_counts()[pref_loc]"
   ]
  },
  {
   "cell_type": "code",
   "execution_count": 184,
   "id": "42ff59b0",
   "metadata": {},
   "outputs": [
    {
     "data": {
      "text/plain": [
       "pandas.core.series.Series"
      ]
     },
     "execution_count": 184,
     "metadata": {},
     "output_type": "execute_result"
    }
   ],
   "source": [
    "type(c_values)"
   ]
  },
  {
   "cell_type": "code",
   "execution_count": 185,
   "id": "3ac9d5b0",
   "metadata": {},
   "outputs": [
    {
     "data": {
      "text/plain": [
       "Bangalore    635\n",
       "Mumbai       449\n",
       "Name: CityLocation, dtype: int64"
      ]
     },
     "execution_count": 185,
     "metadata": {},
     "output_type": "execute_result"
    }
   ],
   "source": [
    "c_values"
   ]
  },
  {
   "cell_type": "code",
   "execution_count": 186,
   "id": "089c07f7",
   "metadata": {},
   "outputs": [],
   "source": [
    "NCR = ['Gurgaon', 'Noida', 'New Delhi']\n",
    "n_values = df.CityLocation.value_counts()[NCR]\n",
    "n_values = pd.Series(n_values.sum(),index=['NCR'])\n",
    "#_value = pd.Series(n_values.sum(),index=[NCR])\n",
    "c_values = c_values.append(n_values)\n",
    "c_keys = c_values.keys()"
   ]
  },
  {
   "cell_type": "code",
   "execution_count": 109,
   "id": "e56200a4",
   "metadata": {},
   "outputs": [
    {
     "data": {
      "image/png": "[encoded data removed]",
      "text/plain": [
       "<Figure size 432x288 with 1 Axes>"
      ]
     },
     "metadata": {
      "needs_background": "light"
     },
     "output_type": "display_data"
    }
   ],
   "source": [
    "plt.bar(c_keys,c_values,color=['orange','blue','green'])\n",
    "plt.xlabel('Cities')\n",
    "plt.ylabel('No. of Funding')\n",
    "plt.show()"
   ]
  },
  {
   "cell_type": "markdown",
   "id": "2c9dccf0",
   "metadata": {},
   "source": [
    "## Answer 1:\n",
    "\n",
    "I would suggest my friend to choose NCR area since it has most number of fundings to Startups"
   ]
  },
  {
   "cell_type": "markdown",
   "id": "bea3971d",
   "metadata": {},
   "source": [
    "## Question 2 \n",
    "\n",
    "Even after trying for so many times, your friend’s startup could not find the investment.\n",
    "So you decided to take this matter in your hand and try to find the list of investors who probably can invest in your friend’s startup. \n",
    "\n",
    "Your list will increase the chance of your friend startup getting some initial investment by contacting these investors.\n",
    "\n",
    "Find the top 5 investors who have invested maximum number of times (consider repeat investments in one company also). In a startup, multiple investors might have invested. So consider each investor for that startup. Ignore undisclosed investors."
   ]
  },
  {
   "cell_type": "code",
   "execution_count": 170,
   "id": "1a81dd92",
   "metadata": {},
   "outputs": [],
   "source": [
    "import matplotlib.pyplot as plt\n",
    "import pandas as pd\n",
    "import numpy as np"
   ]
  },
  {
   "cell_type": "code",
   "execution_count": 171,
   "id": "7c80b1f5",
   "metadata": {},
   "outputs": [],
   "source": [
    "df = pd.read_csv('startup_funding.csv',encoding='utf-8')"
   ]
  },
  {
   "cell_type": "code",
   "execution_count": 172,
   "id": "cb9bc182",
   "metadata": {},
   "outputs": [
    {
     "data": {
      "text/html": [
       "<div>\n",
       "<style scoped>\n",
       "    .dataframe tbody tr th:only-of-type {\n",
       "        vertical-align: middle;\n",
       "    }\n",
       "\n",
       "    .dataframe tbody tr th {\n",
       "        vertical-align: top;\n",
       "    }\n",
       "\n",
       "    .dataframe thead th {\n",
       "        text-align: right;\n",
       "    }\n",
       "</style>\n",
       "<table border=\"1\" class=\"dataframe\">\n",
       "  <thead>\n",
       "    <tr style=\"text-align: right;\">\n",
       "      <th></th>\n",
       "      <th>SNo</th>\n",
       "      <th>Date</th>\n",
       "      <th>StartupName</th>\n",
       "      <th>IndustryVertical</th>\n",
       "      <th>SubVertical</th>\n",
       "      <th>CityLocation</th>\n",
       "      <th>InvestorsName</th>\n",
       "      <th>InvestmentType</th>\n",
       "      <th>AmountInUSD</th>\n",
       "      <th>Remarks</th>\n",
       "    </tr>\n",
       "  </thead>\n",
       "  <tbody>\n",
       "    <tr>\n",
       "      <th>0</th>\n",
       "      <td>0</td>\n",
       "      <td>01/08/2017</td>\n",
       "      <td>TouchKin</td>\n",
       "      <td>Technology</td>\n",
       "      <td>Predictive Care Platform</td>\n",
       "      <td>Bangalore</td>\n",
       "      <td>Kae Capital</td>\n",
       "      <td>Private Equity</td>\n",
       "      <td>1,300,000</td>\n",
       "      <td>NaN</td>\n",
       "    </tr>\n",
       "    <tr>\n",
       "      <th>1</th>\n",
       "      <td>1</td>\n",
       "      <td>02/08/2017</td>\n",
       "      <td>Ethinos</td>\n",
       "      <td>Technology</td>\n",
       "      <td>Digital Marketing Agency</td>\n",
       "      <td>Mumbai</td>\n",
       "      <td>Triton Investment Advisors</td>\n",
       "      <td>Private Equity</td>\n",
       "      <td>NaN</td>\n",
       "      <td>NaN</td>\n",
       "    </tr>\n",
       "    <tr>\n",
       "      <th>2</th>\n",
       "      <td>2</td>\n",
       "      <td>02/08/2017</td>\n",
       "      <td>Leverage Edu</td>\n",
       "      <td>Consumer Internet</td>\n",
       "      <td>Online platform for Higher Education Services</td>\n",
       "      <td>New Delhi</td>\n",
       "      <td>Kashyap Deorah, Anand Sankeshwar, Deepak Jain,...</td>\n",
       "      <td>Seed Funding</td>\n",
       "      <td>NaN</td>\n",
       "      <td>NaN</td>\n",
       "    </tr>\n",
       "    <tr>\n",
       "      <th>3</th>\n",
       "      <td>3</td>\n",
       "      <td>02/08/2017</td>\n",
       "      <td>Zepo</td>\n",
       "      <td>Consumer Internet</td>\n",
       "      <td>DIY Ecommerce platform</td>\n",
       "      <td>Mumbai</td>\n",
       "      <td>Kunal Shah, LetsVenture, Anupam Mittal, Hetal ...</td>\n",
       "      <td>Seed Funding</td>\n",
       "      <td>500,000</td>\n",
       "      <td>NaN</td>\n",
       "    </tr>\n",
       "    <tr>\n",
       "      <th>4</th>\n",
       "      <td>4</td>\n",
       "      <td>02/08/2017</td>\n",
       "      <td>Click2Clinic</td>\n",
       "      <td>Consumer Internet</td>\n",
       "      <td>healthcare service aggregator</td>\n",
       "      <td>Hyderabad</td>\n",
       "      <td>Narottam Thudi, Shireesh Palle</td>\n",
       "      <td>Seed Funding</td>\n",
       "      <td>850,000</td>\n",
       "      <td>NaN</td>\n",
       "    </tr>\n",
       "  </tbody>\n",
       "</table>\n",
       "</div>"
      ],
      "text/plain": [
       "   SNo        Date   StartupName   IndustryVertical  \\\n",
       "0    0  01/08/2017      TouchKin         Technology   \n",
       "1    1  02/08/2017       Ethinos         Technology   \n",
       "2    2  02/08/2017  Leverage Edu  Consumer Internet   \n",
       "3    3  02/08/2017          Zepo  Consumer Internet   \n",
       "4    4  02/08/2017  Click2Clinic  Consumer Internet   \n",
       "\n",
       "                                     SubVertical CityLocation  \\\n",
       "0                       Predictive Care Platform    Bangalore   \n",
       "1                       Digital Marketing Agency       Mumbai   \n",
       "2  Online platform for Higher Education Services    New Delhi   \n",
       "3                         DIY Ecommerce platform       Mumbai   \n",
       "4                  healthcare service aggregator    Hyderabad   \n",
       "\n",
       "                                       InvestorsName  InvestmentType  \\\n",
       "0                                        Kae Capital  Private Equity   \n",
       "1                         Triton Investment Advisors  Private Equity   \n",
       "2  Kashyap Deorah, Anand Sankeshwar, Deepak Jain,...    Seed Funding   \n",
       "3  Kunal Shah, LetsVenture, Anupam Mittal, Hetal ...    Seed Funding   \n",
       "4                     Narottam Thudi, Shireesh Palle    Seed Funding   \n",
       "\n",
       "  AmountInUSD Remarks  \n",
       "0   1,300,000     NaN  \n",
       "1         NaN     NaN  \n",
       "2         NaN     NaN  \n",
       "3     500,000     NaN  \n",
       "4     850,000     NaN  "
      ]
     },
     "execution_count": 172,
     "metadata": {},
     "output_type": "execute_result"
    }
   ],
   "source": [
    "df.head()"
   ]
  },
  {
   "cell_type": "code",
   "execution_count": 173,
   "id": "982b1842",
   "metadata": {},
   "outputs": [],
   "source": [
    "#df.InvestorsName.replace(' , ',',',inplace=True)\n",
    "df = df.InvestorsName.str.split(',',expand=True)\n",
    "df.fillna(False,inplace=True)"
   ]
  },
  {
   "cell_type": "code",
   "execution_count": 174,
   "id": "090b99f6",
   "metadata": {},
   "outputs": [],
   "source": [
    "investor = {}\n",
    "for i in df.columns:\n",
    "    for j in df[i].index:\n",
    "        name = df[i][j]\n",
    "        if name: \n",
    "            name = name.strip()\n",
    "            investor[name] = investor.get(name, 0) + 1\n",
    "inv = pd.Series(investor)"
   ]
  },
  {
   "cell_type": "code",
   "execution_count": 175,
   "id": "0a921dbe",
   "metadata": {},
   "outputs": [
    {
     "name": "stdout",
     "output_type": "stream",
     "text": [
      "Sequoia Capital\n",
      "Accel Partners\n",
      "Kalaari Capital\n",
      "SAIF Partners\n",
      "Indian Angel Network\n"
     ]
    }
   ],
   "source": [
    "inv = inv.sort_values(ascending=False)\n",
    "for i in range(5):\n",
    "    print(inv.index[i])\n"
   ]
  },
  {
   "cell_type": "code",
   "execution_count": 77,
   "id": "de6c87ee",
   "metadata": {
    "scrolled": true
   },
   "outputs": [
    {
     "data": {
      "image/png": "[encoded data removed]",
      "text/plain": [
       "<Figure size 432x288 with 1 Axes>"
      ]
     },
     "metadata": {
      "needs_background": "light"
     },
     "output_type": "display_data"
    }
   ],
   "source": [
    "plt.bar(inv.index[:5],inv[:5])\n",
    "plt.xticks(rotation=45) \n",
    "plt.show()"
   ]
  },
  {
   "cell_type": "markdown",
   "id": "9639f4c9",
   "metadata": {},
   "source": [
    "## Question 3\n",
    "\n",
    "After re-analysing the dataset you found out that some investors have invested in the same startup at different number of funding rounds. \n",
    "\n",
    "So before finalising the previous list, you want to improvise it by finding the **top 5 investors who have invested in different number of startups.***\n",
    "\n",
    "This list will be more helpful than your previous list in finding the investment for your friend startup. Find the top 5 investors who have invested maximum number of times in different companies. That means, if one investor has invested multiple times in one startup, count one for that company.\n",
    "\n",
    "There are many errors in startup names. Ignore correcting all, just handle the important ones - Ola, Flipkart, Oyo and Paytm."
   ]
  },
  {
   "cell_type": "code",
   "execution_count": 187,
   "id": "63214d19",
   "metadata": {},
   "outputs": [],
   "source": [
    "import matplotlib.pyplot as plt\n",
    "import pandas as pd\n",
    "import numpy as np"
   ]
  },
  {
   "cell_type": "code",
   "execution_count": 188,
   "id": "62b123c0",
   "metadata": {},
   "outputs": [],
   "source": [
    "df = pd.read_csv('startup_funding.csv',encoding='utf-8')"
   ]
  },
  {
   "cell_type": "code",
   "execution_count": 189,
   "id": "fd0b5b6b",
   "metadata": {},
   "outputs": [
    {
     "data": {
      "text/html": [
       "<div>\n",
       "<style scoped>\n",
       "    .dataframe tbody tr th:only-of-type {\n",
       "        vertical-align: middle;\n",
       "    }\n",
       "\n",
       "    .dataframe tbody tr th {\n",
       "        vertical-align: top;\n",
       "    }\n",
       "\n",
       "    .dataframe thead th {\n",
       "        text-align: right;\n",
       "    }\n",
       "</style>\n",
       "<table border=\"1\" class=\"dataframe\">\n",
       "  <thead>\n",
       "    <tr style=\"text-align: right;\">\n",
       "      <th></th>\n",
       "      <th>SNo</th>\n",
       "      <th>Date</th>\n",
       "      <th>StartupName</th>\n",
       "      <th>IndustryVertical</th>\n",
       "      <th>SubVertical</th>\n",
       "      <th>CityLocation</th>\n",
       "      <th>InvestorsName</th>\n",
       "      <th>InvestmentType</th>\n",
       "      <th>AmountInUSD</th>\n",
       "      <th>Remarks</th>\n",
       "    </tr>\n",
       "  </thead>\n",
       "  <tbody>\n",
       "    <tr>\n",
       "      <th>0</th>\n",
       "      <td>0</td>\n",
       "      <td>01/08/2017</td>\n",
       "      <td>TouchKin</td>\n",
       "      <td>Technology</td>\n",
       "      <td>Predictive Care Platform</td>\n",
       "      <td>Bangalore</td>\n",
       "      <td>Kae Capital</td>\n",
       "      <td>Private Equity</td>\n",
       "      <td>1,300,000</td>\n",
       "      <td>NaN</td>\n",
       "    </tr>\n",
       "    <tr>\n",
       "      <th>1</th>\n",
       "      <td>1</td>\n",
       "      <td>02/08/2017</td>\n",
       "      <td>Ethinos</td>\n",
       "      <td>Technology</td>\n",
       "      <td>Digital Marketing Agency</td>\n",
       "      <td>Mumbai</td>\n",
       "      <td>Triton Investment Advisors</td>\n",
       "      <td>Private Equity</td>\n",
       "      <td>NaN</td>\n",
       "      <td>NaN</td>\n",
       "    </tr>\n",
       "    <tr>\n",
       "      <th>2</th>\n",
       "      <td>2</td>\n",
       "      <td>02/08/2017</td>\n",
       "      <td>Leverage Edu</td>\n",
       "      <td>Consumer Internet</td>\n",
       "      <td>Online platform for Higher Education Services</td>\n",
       "      <td>New Delhi</td>\n",
       "      <td>Kashyap Deorah, Anand Sankeshwar, Deepak Jain,...</td>\n",
       "      <td>Seed Funding</td>\n",
       "      <td>NaN</td>\n",
       "      <td>NaN</td>\n",
       "    </tr>\n",
       "    <tr>\n",
       "      <th>3</th>\n",
       "      <td>3</td>\n",
       "      <td>02/08/2017</td>\n",
       "      <td>Zepo</td>\n",
       "      <td>Consumer Internet</td>\n",
       "      <td>DIY Ecommerce platform</td>\n",
       "      <td>Mumbai</td>\n",
       "      <td>Kunal Shah, LetsVenture, Anupam Mittal, Hetal ...</td>\n",
       "      <td>Seed Funding</td>\n",
       "      <td>500,000</td>\n",
       "      <td>NaN</td>\n",
       "    </tr>\n",
       "    <tr>\n",
       "      <th>4</th>\n",
       "      <td>4</td>\n",
       "      <td>02/08/2017</td>\n",
       "      <td>Click2Clinic</td>\n",
       "      <td>Consumer Internet</td>\n",
       "      <td>healthcare service aggregator</td>\n",
       "      <td>Hyderabad</td>\n",
       "      <td>Narottam Thudi, Shireesh Palle</td>\n",
       "      <td>Seed Funding</td>\n",
       "      <td>850,000</td>\n",
       "      <td>NaN</td>\n",
       "    </tr>\n",
       "  </tbody>\n",
       "</table>\n",
       "</div>"
      ],
      "text/plain": [
       "   SNo        Date   StartupName   IndustryVertical  \\\n",
       "0    0  01/08/2017      TouchKin         Technology   \n",
       "1    1  02/08/2017       Ethinos         Technology   \n",
       "2    2  02/08/2017  Leverage Edu  Consumer Internet   \n",
       "3    3  02/08/2017          Zepo  Consumer Internet   \n",
       "4    4  02/08/2017  Click2Clinic  Consumer Internet   \n",
       "\n",
       "                                     SubVertical CityLocation  \\\n",
       "0                       Predictive Care Platform    Bangalore   \n",
       "1                       Digital Marketing Agency       Mumbai   \n",
       "2  Online platform for Higher Education Services    New Delhi   \n",
       "3                         DIY Ecommerce platform       Mumbai   \n",
       "4                  healthcare service aggregator    Hyderabad   \n",
       "\n",
       "                                       InvestorsName  InvestmentType  \\\n",
       "0                                        Kae Capital  Private Equity   \n",
       "1                         Triton Investment Advisors  Private Equity   \n",
       "2  Kashyap Deorah, Anand Sankeshwar, Deepak Jain,...    Seed Funding   \n",
       "3  Kunal Shah, LetsVenture, Anupam Mittal, Hetal ...    Seed Funding   \n",
       "4                     Narottam Thudi, Shireesh Palle    Seed Funding   \n",
       "\n",
       "  AmountInUSD Remarks  \n",
       "0   1,300,000     NaN  \n",
       "1         NaN     NaN  \n",
       "2         NaN     NaN  \n",
       "3     500,000     NaN  \n",
       "4     850,000     NaN  "
      ]
     },
     "execution_count": 189,
     "metadata": {},
     "output_type": "execute_result"
    }
   ],
   "source": [
    "df.head()"
   ]
  },
  {
   "cell_type": "code",
   "execution_count": 190,
   "id": "8d2ad809",
   "metadata": {},
   "outputs": [],
   "source": [
    "df.StartupName = df.StartupName.replace('Flipkart.com','Flipkart')\n",
    "df.StartupName = df.StartupName.replace('Ola Cabs','Ola')\n",
    "df.StartupName = df.StartupName.replace('Olacabs','Ola')\n",
    "df.StartupName = df.StartupName.replace('Oyorooms','Oyo')\n",
    "df.StartupName = df.StartupName.replace('OyoRooms','Oyo')\n",
    "df.StartupName = df.StartupName.replace('Oyo Rooms','Oyo')\n",
    "df.StartupName = df.StartupName.replace('OYO Rooms','Oyo')\n",
    "df.StartupName = df.StartupName.replace('Paytm Marketplace','Paytm')"
   ]
  },
  {
   "cell_type": "code",
   "execution_count": 191,
   "id": "169f7bd8",
   "metadata": {},
   "outputs": [],
   "source": [
    "data = df.InvestorsName.str.split(',',expand=True)\n",
    "data.fillna(False,inplace=True)\n",
    "df.fillna(False,inplace=True)\n",
    "df.dropna(subset=['InvestorsName'],inplace=True)"
   ]
  },
  {
   "cell_type": "code",
   "execution_count": 164,
   "id": "65d50fad",
   "metadata": {},
   "outputs": [],
   "source": [
    "investor = {}\n",
    "for i in data.columns:\n",
    "    for j in data[i].index:\n",
    "        name = data[i][j]\n",
    "        if name: \n",
    "            name = name.strip()\n",
    "            #investor.add(name)\n",
    "            investor[name] = investor.get(name, 0) + 1\n",
    "investor = pd.Series(investor)"
   ]
  },
  {
   "cell_type": "code",
   "execution_count": 165,
   "id": "306533ef",
   "metadata": {},
   "outputs": [],
   "source": [
    "un_investor = {}\n",
    "for i in range(len(df.StartupName)):\n",
    "    if(df.loc[i].InvestorsName != False):\n",
    "        Investors = df.loc[i].InvestorsName.split(',')\n",
    "        for j in Investors:\n",
    "            j = j.strip()\n",
    "            if(j in un_investor):\n",
    "                    un_investor[j].add(df.loc[i].StartupName)\n",
    "            else:\n",
    "                un_investor[j] = {df.loc[i].StartupName} "
   ]
  },
  {
   "cell_type": "code",
   "execution_count": 166,
   "id": "24241bd4",
   "metadata": {},
   "outputs": [],
   "source": [
    "uni_investor_val = []\n",
    "uni_investor = []\n",
    "for i in un_investor:\n",
    "    uni_investor_val.append(len(un_investor[i]))\n",
    "    uni_investor.append(i)\n",
    "uni_investors = pd.Series(uni_investor_val,index=uni_investor)"
   ]
  },
  {
   "cell_type": "code",
   "execution_count": 167,
   "id": "7728d904",
   "metadata": {},
   "outputs": [],
   "source": [
    "uni_investors = uni_investors.sort_values(ascending=False)\n",
    "del uni_investors['']"
   ]
  },
  {
   "cell_type": "code",
   "execution_count": 192,
   "id": "749cdd00",
   "metadata": {},
   "outputs": [
    {
     "name": "stdout",
     "output_type": "stream",
     "text": [
      "Sequoia Capital\n",
      "Accel Partners\n",
      "Kalaari Capital\n",
      "Indian Angel Network\n",
      "Blume Ventures\n"
     ]
    }
   ],
   "source": [
    "for i in range(5):\n",
    "    print(uni_investors.index[i])\n"
   ]
  },
  {
   "cell_type": "code",
   "execution_count": 193,
   "id": "18132697",
   "metadata": {},
   "outputs": [
    {
     "data": {
      "image/png": "[encoded data removed]",
      "text/plain": [
       "<Figure size 432x288 with 1 Axes>"
      ]
     },
     "metadata": {
      "needs_background": "light"
     },
     "output_type": "display_data"
    }
   ],
   "source": [
    "plt.bar(uni_investors.index[:5],uni_investors[:5])\n",
    "plt.xticks(rotation=45) \n",
    "plt.ylabel('No. of Invested')\n",
    "plt.xlabel('Top 5 Investors')\n",
    "plt.show()"
   ]
  },
  {
   "cell_type": "markdown",
   "id": "fdeccba8",
   "metadata": {},
   "source": [
    "## Answer 3\n",
    "\n",
    "\n",
    "\n",
    "I would suggest my friend to ask these Investors to invest in his Startup\n",
    "since these are investing in multiple ventures.\n",
    "\n",
    "Sequoia Capital\n",
    "\n",
    "Accel Partners\n",
    "\n",
    "Kalaari Capital\n",
    "\n",
    "Indian Angel Network\n",
    "\n",
    "Blume Ventures\n",
    "\n",
    "# -------------------------------------------------------------"
   ]
  },
  {
   "cell_type": "markdown",
   "id": "77ccadd0",
   "metadata": {},
   "source": [
    "## Question 4\n",
    "\n",
    "Even after putting so much effort in finding the probable investors, \n",
    "\n",
    "it didn't turn out to be helpful for your friend. So you went to your investor friend to understand the situation better and your investor friend explained to you about the different Investment Types and their features. \n",
    "\n",
    "This new information will be helpful in finding the right investor. Since your friend startup is at an early stage startup, the best-suited investment type would be - \n",
    "### Seed Funding and Crowdfunding. \n",
    "Find the top 5 investors who have invested in a different number of startups and their investment type is Crowdfunding or Seed Funding. \n",
    "\n",
    "Correct spelling of investment types are - \"Private Equity\", \"Seed Funding\", \"Debt Funding\", and \"Crowd Funding\". Keep an eye for any spelling mistake. You can find this by printing unique values from this column. There are many errors in startup names. Ignore correcting all, just handle the important ones - Ola, Flipkart, Oyo and Paytm."
   ]
  },
  {
   "cell_type": "code",
   "execution_count": 194,
   "id": "f342e68f",
   "metadata": {},
   "outputs": [],
   "source": [
    "import matplotlib.pyplot as plt\n",
    "import pandas as pd\n",
    "import numpy as np"
   ]
  },
  {
   "cell_type": "code",
   "execution_count": 195,
   "id": "76682944",
   "metadata": {},
   "outputs": [],
   "source": [
    "df = pd.read_csv('startup_funding.csv',encoding='utf-8')"
   ]
  },
  {
   "cell_type": "code",
   "execution_count": 196,
   "id": "927f46c7",
   "metadata": {},
   "outputs": [
    {
     "data": {
      "text/html": [
       "<div>\n",
       "<style scoped>\n",
       "    .dataframe tbody tr th:only-of-type {\n",
       "        vertical-align: middle;\n",
       "    }\n",
       "\n",
       "    .dataframe tbody tr th {\n",
       "        vertical-align: top;\n",
       "    }\n",
       "\n",
       "    .dataframe thead th {\n",
       "        text-align: right;\n",
       "    }\n",
       "</style>\n",
       "<table border=\"1\" class=\"dataframe\">\n",
       "  <thead>\n",
       "    <tr style=\"text-align: right;\">\n",
       "      <th></th>\n",
       "      <th>SNo</th>\n",
       "      <th>Date</th>\n",
       "      <th>StartupName</th>\n",
       "      <th>IndustryVertical</th>\n",
       "      <th>SubVertical</th>\n",
       "      <th>CityLocation</th>\n",
       "      <th>InvestorsName</th>\n",
       "      <th>InvestmentType</th>\n",
       "      <th>AmountInUSD</th>\n",
       "      <th>Remarks</th>\n",
       "    </tr>\n",
       "  </thead>\n",
       "  <tbody>\n",
       "    <tr>\n",
       "      <th>0</th>\n",
       "      <td>0</td>\n",
       "      <td>01/08/2017</td>\n",
       "      <td>TouchKin</td>\n",
       "      <td>Technology</td>\n",
       "      <td>Predictive Care Platform</td>\n",
       "      <td>Bangalore</td>\n",
       "      <td>Kae Capital</td>\n",
       "      <td>Private Equity</td>\n",
       "      <td>1,300,000</td>\n",
       "      <td>NaN</td>\n",
       "    </tr>\n",
       "    <tr>\n",
       "      <th>1</th>\n",
       "      <td>1</td>\n",
       "      <td>02/08/2017</td>\n",
       "      <td>Ethinos</td>\n",
       "      <td>Technology</td>\n",
       "      <td>Digital Marketing Agency</td>\n",
       "      <td>Mumbai</td>\n",
       "      <td>Triton Investment Advisors</td>\n",
       "      <td>Private Equity</td>\n",
       "      <td>NaN</td>\n",
       "      <td>NaN</td>\n",
       "    </tr>\n",
       "    <tr>\n",
       "      <th>2</th>\n",
       "      <td>2</td>\n",
       "      <td>02/08/2017</td>\n",
       "      <td>Leverage Edu</td>\n",
       "      <td>Consumer Internet</td>\n",
       "      <td>Online platform for Higher Education Services</td>\n",
       "      <td>New Delhi</td>\n",
       "      <td>Kashyap Deorah, Anand Sankeshwar, Deepak Jain,...</td>\n",
       "      <td>Seed Funding</td>\n",
       "      <td>NaN</td>\n",
       "      <td>NaN</td>\n",
       "    </tr>\n",
       "    <tr>\n",
       "      <th>3</th>\n",
       "      <td>3</td>\n",
       "      <td>02/08/2017</td>\n",
       "      <td>Zepo</td>\n",
       "      <td>Consumer Internet</td>\n",
       "      <td>DIY Ecommerce platform</td>\n",
       "      <td>Mumbai</td>\n",
       "      <td>Kunal Shah, LetsVenture, Anupam Mittal, Hetal ...</td>\n",
       "      <td>Seed Funding</td>\n",
       "      <td>500,000</td>\n",
       "      <td>NaN</td>\n",
       "    </tr>\n",
       "    <tr>\n",
       "      <th>4</th>\n",
       "      <td>4</td>\n",
       "      <td>02/08/2017</td>\n",
       "      <td>Click2Clinic</td>\n",
       "      <td>Consumer Internet</td>\n",
       "      <td>healthcare service aggregator</td>\n",
       "      <td>Hyderabad</td>\n",
       "      <td>Narottam Thudi, Shireesh Palle</td>\n",
       "      <td>Seed Funding</td>\n",
       "      <td>850,000</td>\n",
       "      <td>NaN</td>\n",
       "    </tr>\n",
       "  </tbody>\n",
       "</table>\n",
       "</div>"
      ],
      "text/plain": [
       "   SNo        Date   StartupName   IndustryVertical  \\\n",
       "0    0  01/08/2017      TouchKin         Technology   \n",
       "1    1  02/08/2017       Ethinos         Technology   \n",
       "2    2  02/08/2017  Leverage Edu  Consumer Internet   \n",
       "3    3  02/08/2017          Zepo  Consumer Internet   \n",
       "4    4  02/08/2017  Click2Clinic  Consumer Internet   \n",
       "\n",
       "                                     SubVertical CityLocation  \\\n",
       "0                       Predictive Care Platform    Bangalore   \n",
       "1                       Digital Marketing Agency       Mumbai   \n",
       "2  Online platform for Higher Education Services    New Delhi   \n",
       "3                         DIY Ecommerce platform       Mumbai   \n",
       "4                  healthcare service aggregator    Hyderabad   \n",
       "\n",
       "                                       InvestorsName  InvestmentType  \\\n",
       "0                                        Kae Capital  Private Equity   \n",
       "1                         Triton Investment Advisors  Private Equity   \n",
       "2  Kashyap Deorah, Anand Sankeshwar, Deepak Jain,...    Seed Funding   \n",
       "3  Kunal Shah, LetsVenture, Anupam Mittal, Hetal ...    Seed Funding   \n",
       "4                     Narottam Thudi, Shireesh Palle    Seed Funding   \n",
       "\n",
       "  AmountInUSD Remarks  \n",
       "0   1,300,000     NaN  \n",
       "1         NaN     NaN  \n",
       "2         NaN     NaN  \n",
       "3     500,000     NaN  \n",
       "4     850,000     NaN  "
      ]
     },
     "execution_count": 196,
     "metadata": {},
     "output_type": "execute_result"
    }
   ],
   "source": [
    "df.head()"
   ]
  },
  {
   "cell_type": "code",
   "execution_count": 197,
   "id": "e67848b1",
   "metadata": {},
   "outputs": [],
   "source": [
    "df.StartupName = df.StartupName.replace('Flipkart.com','Flipkart')\n",
    "df.StartupName = df.StartupName.replace('Ola Cabs','Ola')\n",
    "df.StartupName = df.StartupName.replace('Olacabs','Ola')\n",
    "df.StartupName = df.StartupName.replace('Oyorooms','Oyo')\n",
    "df.StartupName = df.StartupName.replace('OyoRooms','Oyo')\n",
    "df.StartupName = df.StartupName.replace('Oyo Rooms','Oyo')\n",
    "df.StartupName = df.StartupName.replace('OYO Rooms','Oyo')\n",
    "df.StartupName = df.StartupName.replace('Paytm Marketplace','Paytm')\n",
    "df['InvestmentType'] = df['InvestmentType'].str.replace('SeedFunding','Seed Funding')\n",
    "df['InvestmentType'] = df['InvestmentType'].str.replace('PrivateEquity','Private Equity')\n",
    "df['InvestmentType'] = df['InvestmentType'].str.replace('Crowd funding','Crowd Funding')"
   ]
  },
  {
   "cell_type": "code",
   "execution_count": 198,
   "id": "b18d9e18",
   "metadata": {},
   "outputs": [],
   "source": [
    "data = df.InvestorsName.str.split(',',expand=True)\n",
    "data.fillna(False,inplace=True)\n",
    "df.fillna(False,inplace=True)\n",
    "df.dropna(subset=['InvestorsName'],inplace=True)"
   ]
  },
  {
   "cell_type": "code",
   "execution_count": 199,
   "id": "91cd83f4",
   "metadata": {},
   "outputs": [],
   "source": [
    "investor = {}\n",
    "for i in data.columns:\n",
    "    for j in data[i].index:\n",
    "        name = data[i][j]\n",
    "        if name: \n",
    "            name = name.strip()\n",
    "            #investor.add(name)\n",
    "            investor[name] = investor.get(name, 0) + 1\n",
    "investor = pd.Series(investor)"
   ]
  },
  {
   "cell_type": "code",
   "execution_count": 200,
   "id": "829be9e4",
   "metadata": {},
   "outputs": [],
   "source": [
    "un_investor = {}\n",
    "for i in range(len(df.StartupName)):\n",
    "    if(df.loc[i].InvestorsName != False):\n",
    "        if(df.loc[i].InvestmentType == 'Seed Funding' or df.loc[i].InvestmentType == 'Crowd Funding'):\n",
    "            Investors = df.loc[i].InvestorsName.split(',')\n",
    "            for j in Investors:\n",
    "                j = j.strip()\n",
    "                if(j in un_investor):\n",
    "                    un_investor[j].add(df.loc[i].StartupName)\n",
    "                else:\n",
    "                    un_investor[j] = {df.loc[i].StartupName} "
   ]
  },
  {
   "cell_type": "code",
   "execution_count": 201,
   "id": "826c9bf4",
   "metadata": {},
   "outputs": [],
   "source": [
    "uni_investor_val = []\n",
    "uni_investor = []\n",
    "for i in un_investor:\n",
    "    uni_investor_val.append(len(un_investor[i]))\n",
    "    uni_investor.append(i)\n",
    "uni_investors = pd.Series(uni_investor_val,index=uni_investor)"
   ]
  },
  {
   "cell_type": "code",
   "execution_count": 202,
   "id": "9adbd2bb",
   "metadata": {},
   "outputs": [],
   "source": [
    "uni_investors = uni_investors.sort_values(ascending=False)\n",
    "del uni_investors['']\n",
    "del uni_investors['Undisclosed Investors']\n",
    "del uni_investors['Undisclosed investors']"
   ]
  },
  {
   "cell_type": "code",
   "execution_count": 203,
   "id": "b7e77ccf",
   "metadata": {},
   "outputs": [
    {
     "name": "stdout",
     "output_type": "stream",
     "text": [
      "Indian Angel Network\n",
      "Rajan Anandan\n",
      "LetsVenture\n",
      "Anupam Mittal\n",
      "Kunal Shah\n"
     ]
    }
   ],
   "source": [
    "for i in range(5):\n",
    "    print(uni_investors.index[i])"
   ]
  },
  {
   "cell_type": "code",
   "execution_count": 158,
   "id": "27286103",
   "metadata": {},
   "outputs": [
    {
     "data": {
      "image/png": "[encoded data removed]",
      "text/plain": [
       "<Figure size 432x288 with 1 Axes>"
      ]
     },
     "metadata": {
      "needs_background": "light"
     },
     "output_type": "display_data"
    }
   ],
   "source": [
    "plt.bar(uni_investors.index[:5],uni_investors[:5])\n",
    "plt.xticks(rotation=45) \n",
    "plt.ylabel('No. of Invested')\n",
    "plt.xlabel('Investors who invested in Seed Funding and Crowdfunding')\n",
    "plt.show()"
   ]
  },
  {
   "cell_type": "markdown",
   "id": "8a22b489",
   "metadata": {},
   "source": [
    "## Answer 4\n",
    "\n",
    "\n",
    "\n",
    "I would suggest my friend to ask these Investors to invest in his Startup\n",
    "since these are investing in multiple ventures with Seed Funding and Crowdfunding.\n",
    "\n",
    "Indian Angel Network\n",
    "\n",
    "Rajan Anandan\n",
    "\n",
    "LetsVenture\n",
    "\n",
    "Anupam Mittal\n",
    "\n",
    "Kunal Shah\n",
    "\n",
    "# -------------------------------------------------------------"
   ]
  },
  {
   "cell_type": "markdown",
   "id": "7412f583",
   "metadata": {},
   "source": [
    "## Question 5\n",
    "\n",
    "Due to your immense help, your friend startup successfully got seed funding and it is on the operational mode.\n",
    "\n",
    "Now your friend wants to expand his startup and he is looking for new investors for his startup. Now you again come as a saviour to help your friend and want to create a list of probable new new investors\n",
    "\n",
    "Before moving forward you remember your investor friend advice that finding the investors by analysing the investment type. Since your friend startup is not in early phase it is in growth stage so the best-suited investment type is **Private Equity.**\n",
    "\n",
    "Find the top 5 investors who have invested in a different number of startups and their investment type is Private Equity.\n",
    "\n",
    "Correct spelling of investment types are - \"Private Equity\", \"Seed Funding\", \"Debt Funding\", and \"Crowd Funding\". Keep an eye for any spelling mistake. You can find this by printing unique values from this column. There are many errors in startup names. Ignore correcting all, just handle the important ones - Ola, Flipkart, Oyo and Paytm."
   ]
  },
  {
   "cell_type": "code",
   "execution_count": 204,
   "id": "cb95c49f",
   "metadata": {},
   "outputs": [],
   "source": [
    "import matplotlib.pyplot as plt\n",
    "import pandas as pd\n",
    "import numpy as p"
   ]
  },
  {
   "cell_type": "code",
   "execution_count": 205,
   "id": "44e6f116",
   "metadata": {},
   "outputs": [],
   "source": [
    "df = pd.read_csv('startup_funding.csv',encoding='utf-8')"
   ]
  },
  {
   "cell_type": "code",
   "execution_count": 206,
   "id": "51fb50ed",
   "metadata": {},
   "outputs": [
    {
     "data": {
      "text/html": [
       "<div>\n",
       "<style scoped>\n",
       "    .dataframe tbody tr th:only-of-type {\n",
       "        vertical-align: middle;\n",
       "    }\n",
       "\n",
       "    .dataframe tbody tr th {\n",
       "        vertical-align: top;\n",
       "    }\n",
       "\n",
       "    .dataframe thead th {\n",
       "        text-align: right;\n",
       "    }\n",
       "</style>\n",
       "<table border=\"1\" class=\"dataframe\">\n",
       "  <thead>\n",
       "    <tr style=\"text-align: right;\">\n",
       "      <th></th>\n",
       "      <th>SNo</th>\n",
       "      <th>Date</th>\n",
       "      <th>StartupName</th>\n",
       "      <th>IndustryVertical</th>\n",
       "      <th>SubVertical</th>\n",
       "      <th>CityLocation</th>\n",
       "      <th>InvestorsName</th>\n",
       "      <th>InvestmentType</th>\n",
       "      <th>AmountInUSD</th>\n",
       "      <th>Remarks</th>\n",
       "    </tr>\n",
       "  </thead>\n",
       "  <tbody>\n",
       "    <tr>\n",
       "      <th>0</th>\n",
       "      <td>0</td>\n",
       "      <td>01/08/2017</td>\n",
       "      <td>TouchKin</td>\n",
       "      <td>Technology</td>\n",
       "      <td>Predictive Care Platform</td>\n",
       "      <td>Bangalore</td>\n",
       "      <td>Kae Capital</td>\n",
       "      <td>Private Equity</td>\n",
       "      <td>1,300,000</td>\n",
       "      <td>NaN</td>\n",
       "    </tr>\n",
       "    <tr>\n",
       "      <th>1</th>\n",
       "      <td>1</td>\n",
       "      <td>02/08/2017</td>\n",
       "      <td>Ethinos</td>\n",
       "      <td>Technology</td>\n",
       "      <td>Digital Marketing Agency</td>\n",
       "      <td>Mumbai</td>\n",
       "      <td>Triton Investment Advisors</td>\n",
       "      <td>Private Equity</td>\n",
       "      <td>NaN</td>\n",
       "      <td>NaN</td>\n",
       "    </tr>\n",
       "    <tr>\n",
       "      <th>2</th>\n",
       "      <td>2</td>\n",
       "      <td>02/08/2017</td>\n",
       "      <td>Leverage Edu</td>\n",
       "      <td>Consumer Internet</td>\n",
       "      <td>Online platform for Higher Education Services</td>\n",
       "      <td>New Delhi</td>\n",
       "      <td>Kashyap Deorah, Anand Sankeshwar, Deepak Jain,...</td>\n",
       "      <td>Seed Funding</td>\n",
       "      <td>NaN</td>\n",
       "      <td>NaN</td>\n",
       "    </tr>\n",
       "    <tr>\n",
       "      <th>3</th>\n",
       "      <td>3</td>\n",
       "      <td>02/08/2017</td>\n",
       "      <td>Zepo</td>\n",
       "      <td>Consumer Internet</td>\n",
       "      <td>DIY Ecommerce platform</td>\n",
       "      <td>Mumbai</td>\n",
       "      <td>Kunal Shah, LetsVenture, Anupam Mittal, Hetal ...</td>\n",
       "      <td>Seed Funding</td>\n",
       "      <td>500,000</td>\n",
       "      <td>NaN</td>\n",
       "    </tr>\n",
       "    <tr>\n",
       "      <th>4</th>\n",
       "      <td>4</td>\n",
       "      <td>02/08/2017</td>\n",
       "      <td>Click2Clinic</td>\n",
       "      <td>Consumer Internet</td>\n",
       "      <td>healthcare service aggregator</td>\n",
       "      <td>Hyderabad</td>\n",
       "      <td>Narottam Thudi, Shireesh Palle</td>\n",
       "      <td>Seed Funding</td>\n",
       "      <td>850,000</td>\n",
       "      <td>NaN</td>\n",
       "    </tr>\n",
       "  </tbody>\n",
       "</table>\n",
       "</div>"
      ],
      "text/plain": [
       "   SNo        Date   StartupName   IndustryVertical  \\\n",
       "0    0  01/08/2017      TouchKin         Technology   \n",
       "1    1  02/08/2017       Ethinos         Technology   \n",
       "2    2  02/08/2017  Leverage Edu  Consumer Internet   \n",
       "3    3  02/08/2017          Zepo  Consumer Internet   \n",
       "4    4  02/08/2017  Click2Clinic  Consumer Internet   \n",
       "\n",
       "                                     SubVertical CityLocation  \\\n",
       "0                       Predictive Care Platform    Bangalore   \n",
       "1                       Digital Marketing Agency       Mumbai   \n",
       "2  Online platform for Higher Education Services    New Delhi   \n",
       "3                         DIY Ecommerce platform       Mumbai   \n",
       "4                  healthcare service aggregator    Hyderabad   \n",
       "\n",
       "                                       InvestorsName  InvestmentType  \\\n",
       "0                                        Kae Capital  Private Equity   \n",
       "1                         Triton Investment Advisors  Private Equity   \n",
       "2  Kashyap Deorah, Anand Sankeshwar, Deepak Jain,...    Seed Funding   \n",
       "3  Kunal Shah, LetsVenture, Anupam Mittal, Hetal ...    Seed Funding   \n",
       "4                     Narottam Thudi, Shireesh Palle    Seed Funding   \n",
       "\n",
       "  AmountInUSD Remarks  \n",
       "0   1,300,000     NaN  \n",
       "1         NaN     NaN  \n",
       "2         NaN     NaN  \n",
       "3     500,000     NaN  \n",
       "4     850,000     NaN  "
      ]
     },
     "execution_count": 206,
     "metadata": {},
     "output_type": "execute_result"
    }
   ],
   "source": [
    "df.head()"
   ]
  },
  {
   "cell_type": "code",
   "execution_count": 207,
   "id": "b5975163",
   "metadata": {},
   "outputs": [],
   "source": [
    "df.StartupName = df.StartupName.replace('Flipkart.com','Flipkart')\n",
    "df.StartupName = df.StartupName.replace('Ola Cabs','Ola')\n",
    "df.StartupName = df.StartupName.replace('Olacabs','Ola')\n",
    "df.StartupName = df.StartupName.replace('Oyorooms','Oyo')\n",
    "df.StartupName = df.StartupName.replace('OyoRooms','Oyo')\n",
    "df.StartupName = df.StartupName.replace('Oyo Rooms','Oyo')\n",
    "df.StartupName = df.StartupName.replace('OYO Rooms','Oyo')\n",
    "df.StartupName = df.StartupName.replace('Paytm Marketplace','Paytm')\n",
    "df['InvestmentType'] = df['InvestmentType'].str.replace('SeedFunding','Seed Funding')\n",
    "df['InvestmentType'] = df['InvestmentType'].str.replace('PrivateEquity','Private Equity')\n",
    "df['InvestmentType'] = df['InvestmentType'].str.replace('Crowd funding','Crowd Funding')"
   ]
  },
  {
   "cell_type": "code",
   "execution_count": 208,
   "id": "8c0f91d2",
   "metadata": {},
   "outputs": [],
   "source": [
    "data = df.InvestorsName.str.split(',',expand=True)\n",
    "data.fillna(False,inplace=True)\n",
    "df.fillna(False,inplace=True)\n",
    "df.dropna(subset=['InvestorsName'],inplace=True)"
   ]
  },
  {
   "cell_type": "code",
   "execution_count": 209,
   "id": "0034e0bb",
   "metadata": {},
   "outputs": [],
   "source": [
    "investor = {}\n",
    "for i in data.columns:\n",
    "    for j in data[i].index:\n",
    "        name = data[i][j]\n",
    "        if name: \n",
    "            name = name.strip()\n",
    "            #investor.add(name)\n",
    "            investor[name] = investor.get(name, 0) + 1\n",
    "investor = pd.Series(investor)"
   ]
  },
  {
   "cell_type": "code",
   "execution_count": 210,
   "id": "c46c4809",
   "metadata": {},
   "outputs": [],
   "source": [
    "un_investor = {}\n",
    "for i in range(len(df.StartupName)):\n",
    "    if(df.loc[i].InvestorsName != False):\n",
    "        if(df.loc[i].InvestmentType == 'Private Equity'):\n",
    "            Investors = df.loc[i].InvestorsName.split(',')\n",
    "            for j in Investors:\n",
    "                j = j.strip()\n",
    "                if(j in un_investor):\n",
    "                    un_investor[j].add(df.loc[i].StartupName)\n",
    "                else:\n",
    "                    un_investor[j] = {df.loc[i].StartupName} "
   ]
  },
  {
   "cell_type": "code",
   "execution_count": 211,
   "id": "ec3af3d6",
   "metadata": {},
   "outputs": [],
   "source": [
    "uni_investor_val = []\n",
    "uni_investor = []\n",
    "for i in un_investor:\n",
    "    uni_investor_val.append(len(un_investor[i]))\n",
    "    uni_investor.append(i)\n",
    "uni_investors = pd.Series(uni_investor_val,index=uni_investor)"
   ]
  },
  {
   "cell_type": "code",
   "execution_count": 212,
   "id": "10c92f70",
   "metadata": {},
   "outputs": [],
   "source": [
    "uni_investors = uni_investors.sort_values(ascending=False)\n",
    "del uni_investors['']\n",
    "del uni_investors['Undisclosed Investors']\n",
    "del uni_investors['Undisclosed investors']"
   ]
  },
  {
   "cell_type": "code",
   "execution_count": 213,
   "id": "d7bb65be",
   "metadata": {},
   "outputs": [
    {
     "name": "stdout",
     "output_type": "stream",
     "text": [
      "Sequoia Capital\n",
      "Accel Partners\n",
      "Kalaari Capital\n",
      "Blume Ventures\n",
      "SAIF Partners\n"
     ]
    }
   ],
   "source": [
    "for i in range(5):\n",
    "    print(uni_investors.index[i])"
   ]
  },
  {
   "cell_type": "code",
   "execution_count": 145,
   "id": "02baab6f",
   "metadata": {},
   "outputs": [
    {
     "data": {
      "image/png": "[encoded data removed]",
      "text/plain": [
       "<Figure size 432x288 with 1 Axes>"
      ]
     },
     "metadata": {
      "needs_background": "light"
     },
     "output_type": "display_data"
    }
   ],
   "source": [
    "plt.bar(uni_investors.index[:5],uni_investors[:5])\n",
    "plt.ylabel('No. of Invested')\n",
    "plt.xlabel('Investors who invested in Private Equity')\n",
    "plt.xticks(rotation=45) \n",
    "plt.show()"
   ]
  },
  {
   "cell_type": "code",
   "execution_count": null,
   "id": "37409ea6",
   "metadata": {},
   "outputs": [],
   "source": []
  }
 ],
 "metadata": {
  "kernelspec": {
   "display_name": "Python 3",
   "language": "python",
   "name": "python3"
  },
  "language_info": {
   "codemirror_mode": {
    "name": "ipython",
    "version": 3
   },
   "file_extension": ".py",
   "mimetype": "text/x-python",
   "name": "python",
   "nbconvert_exporter": "python",
   "pygments_lexer": "ipython3",
   "version": "3.6.13"
  }
 },
 "nbformat": 4,
 "nbformat_minor": 5
}
